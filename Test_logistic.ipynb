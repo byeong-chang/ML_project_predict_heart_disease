{
 "cells": [
  {
   "cell_type": "code",
   "execution_count": 3,
   "id": "b48bbe97-0db6-4063-8580-7868c44ca212",
   "metadata": {},
   "outputs": [],
   "source": [
    "import pandas as pd\n",
    "import numpy as np\n",
    "import matplotlib.pyplot as plt\n",
    "import matplotlib\n",
    "%matplotlib inline\n",
    "from sklearn.model_selection import train_test_split\n",
    "from sklearn.linear_model import LogisticRegression\n",
    "from sklearn.metrics import confusion_matrix, accuracy_score, precision_score, recall_score, f1_score\n",
    "from sklearn.metrics import roc_auc_score\n",
    "\n",
    "import warnings\n",
    "warnings.filterwarnings('ignore')"
   ]
  },
  {
   "cell_type": "code",
   "execution_count": 4,
   "id": "57bdf3c8-99bc-43f0-b873-5a543b020742",
   "metadata": {},
   "outputs": [],
   "source": [
    "class model_selecting:\n",
    "    def __init__(self, model, *xytt):\n",
    "        \n",
    "        self.X_train = xytt[0][0]\n",
    "        self.X_test = xytt[0][1]\n",
    "        self.y_train = xytt[0][2]\n",
    "        self.y_test = xytt[0][3]\n",
    "        self.model = model\n",
    "        self.X_train_over,self.y_train_over = self.get_SMOTE()\n",
    "        \n",
    "    def get_clf_eval(self,y_test, pred=None, pred_proba=None):\n",
    "        confusion = confusion_matrix(y_test, pred)\n",
    "        accuracy = accuracy_score(y_test , pred)\n",
    "        precision = precision_score(y_test , pred)\n",
    "        recall = recall_score(y_test , pred)\n",
    "        f1 = f1_score(y_test,pred)\n",
    "        # ROC-AUC 추가 \n",
    "        roc_auc = roc_auc_score(y_test, pred_proba)\n",
    "        print('오차 행렬')\n",
    "        print(confusion)\n",
    "        # ROC-AUC print 추가\n",
    "        print('정확도: {0:.4f}, 정밀도: {1:.4f}, 재현율: {2:.4f},\\\n",
    "        F1: {3:.4f}, AUC:{4:.4f}'.format(accuracy, precision, recall, f1, roc_auc))\n",
    "        \n",
    "    def get_SMOTE(self):\n",
    "        # SMOTE train 함수\n",
    "        from imblearn.over_sampling import SMOTE\n",
    "        smote = SMOTE()\n",
    "        return smote.fit_resample(self.X_train,self.y_train)\n",
    "    \n",
    "    def get_model_apply(self,SMOTE = False):\n",
    "        if SMOTE == False:\n",
    "            reg = self.model.fit(self.X_train,self.y_train)\n",
    "        else:\n",
    "            reg = self.model.fit(self.X_train_over,self.y_train_over)\n",
    "        y_pred = reg.predict(self.X_test)\n",
    "        y_pred_proba = reg.predict_proba(self.X_test)[:,1]\n",
    "        self.get_clf_eval(self.y_test,y_pred,y_pred_proba)  \n",
    "        return y_pred_proba"
   ]
  },
  {
   "cell_type": "code",
   "execution_count": 5,
   "id": "0f51a78c-7caa-4fae-b995-02e782529990",
   "metadata": {},
   "outputs": [
    {
     "name": "stdout",
     "output_type": "stream",
     "text": [
      "오차 행렬\n",
      "[[40639 17845]\n",
      " [ 1628  3847]]\n",
      "정확도: 0.6955, 정밀도: 0.1773, 재현율: 0.7026,        F1: 0.2832, AUC:0.7641\n"
     ]
    }
   ],
   "source": [
    "df = pd.read_csv('heart_2020_cleaned_preprocessing.csv')\n",
    "X = df.iloc[:,1:]\n",
    "y = df['HeartDisease']\n",
    "\n",
    "xytt = train_test_split(X,y,test_size=0.2, \n",
    "                        random_state=42 , stratify=y)\n",
    "lr = LogisticRegression(multi_class = 'auto', solver = 'lbfgs', random_state=42)\n",
    "m1 = model_selecting(lr,xytt)\n",
    "m1.get_model_apply(SMOTE = True)"
   ]
  },
  {
   "cell_type": "code",
   "execution_count": null,
   "id": "169831e9-e8cf-4581-a91e-c4c467a46ea2",
   "metadata": {},
   "outputs": [],
   "source": []
  }
 ],
 "metadata": {
  "kernelspec": {
   "display_name": "Python 3 (ipykernel)",
   "language": "python",
   "name": "python3"
  },
  "language_info": {
   "codemirror_mode": {
    "name": "ipython",
    "version": 3
   },
   "file_extension": ".py",
   "mimetype": "text/x-python",
   "name": "python",
   "nbconvert_exporter": "python",
   "pygments_lexer": "ipython3",
   "version": "3.9.13"
  }
 },
 "nbformat": 4,
 "nbformat_minor": 5
}
