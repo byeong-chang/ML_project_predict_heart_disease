{
 "cells": [
  {
   "cell_type": "code",
   "execution_count": 1,
   "metadata": {},
   "outputs": [],
   "source": [
    "import numpy as np\n",
    "from sklearn.model_selection import KFold\n",
    "from sklearn.metrics import confusion_matrix, accuracy_score, precision_score, recall_score, f1_score\n",
    "from sklearn.metrics import roc_auc_score\n",
    "\n",
    "from lightgbm import LGBMClassifier\n",
    "from catboost import CatBoostClassifier\n",
    "from xgboost import XGBClassifier\n",
    "import warnings\n",
    "warnings.filterwarnings('ignore')\n",
    "\n",
    "from Model_def import fold_K\n",
    "from imblearn.over_sampling import SMOTE"
   ]
  },
  {
   "cell_type": "markdown",
   "metadata": {},
   "source": [
    "# 파일불러오기"
   ]
  },
  {
   "cell_type": "code",
   "execution_count": 3,
   "metadata": {},
   "outputs": [],
   "source": [
    "import pandas as pd\n",
    "from imblearn.over_sampling import SMOTE\n",
    "from sklearn.model_selection import train_test_split\n",
    "\n",
    "df = pd.read_csv('./../0.data/heart_2020_final.csv')\n",
    "X = df.drop(columns = 'HeartDisease').values\n",
    "y = df['HeartDisease']\n",
    "\n",
    "smote = SMOTE(random_state = 42)\n",
    "X_smote, y_smote = smote.fit_resample(X,y)"
   ]
  },
  {
   "cell_type": "markdown",
   "metadata": {},
   "source": [
    "# CatBoost 하이퍼파라미터 튜닝"
   ]
  },
  {
   "cell_type": "code",
   "execution_count": null,
   "metadata": {},
   "outputs": [],
   "source": [
    "# from catboost import CatBoostClassifier\n",
    "# from sklearn.model_selection import GridSearchCV\n",
    "\n",
    "\n",
    "# X_smote_train , X_smote_test , y_smote_train , y_smote_test = train_test_split(X_smote,y_smote,test_size = 0.2 , random_state=42)\n",
    "\n",
    "# # CatBoost 모델을 만듭니다.\n",
    "# catboost = CatBoostClassifier(random_state = 42, task_type=\"GPU\",)\n",
    "\n",
    "# # 하이퍼파라미터 후보군을 지정합니다.\n",
    "# param_grid = {\n",
    "#     'learning_rate': [0.01, 0.1, 1],\n",
    "#     'depth': [3, 6, 9],\n",
    "#     'l2_leaf_reg': [1, 3, 5],\n",
    "#     'bagging_temperature': [0, 1, 10]\n",
    "# }\n",
    "\n",
    "# # 그리드 서치를 수행합니다.\n",
    "# grid_search = GridSearchCV(estimator=catboost , param_grid = param_grid, cv=3)\n",
    "# grid_search.fit(X_smote_train, y_smote_train)"
   ]
  },
  {
   "cell_type": "markdown",
   "metadata": {},
   "source": [
    "# 그리드 서치 결과 kfold 검증\n",
    "\n",
    "### 결과(random_state = 42, task_type = 'GPU')\n",
    "- bagging_temperature = 0\n",
    "- depth = 9\n",
    "- l2_leaf_reg = 3\n",
    "- learning_rate =0.1"
   ]
  },
  {
   "cell_type": "code",
   "execution_count": 9,
   "metadata": {},
   "outputs": [
    {
     "name": "stdout",
     "output_type": "stream",
     "text": [
      "0:\tlearn: 0.5920657\ttotal: 112ms\tremaining: 1m 52s\n",
      "999:\tlearn: 0.1222221\ttotal: 2m 7s\tremaining: 0us\n",
      "0:\tlearn: 0.5919828\ttotal: 108ms\tremaining: 1m 48s\n",
      "999:\tlearn: 0.1223949\ttotal: 2m 15s\tremaining: 0us\n",
      "0:\tlearn: 0.5921759\ttotal: 169ms\tremaining: 2m 48s\n",
      "999:\tlearn: 0.1221722\ttotal: 2m 25s\tremaining: 0us\n",
      "0:\tlearn: 0.5926977\ttotal: 160ms\tremaining: 2m 39s\n",
      "999:\tlearn: 0.1216345\ttotal: 2m 25s\tremaining: 0us\n",
      "0:\tlearn: 0.5920587\ttotal: 148ms\tremaining: 2m 27s\n",
      "999:\tlearn: 0.1230095\ttotal: 2m 36s\tremaining: 0us\n",
      "정확도 : train score : 0.952345731077531\n",
      "정확도 : test score : 0.9360771865710775\n",
      "재현율 : train score : 0.9219948526638477\n",
      "재현율 : test score : 0.9009552166828586\n"
     ]
    },
    {
     "data": {
      "text/plain": [
       "<catboost.core.CatBoostClassifier at 0x28b806bc5e0>"
      ]
     },
     "execution_count": 9,
     "metadata": {},
     "output_type": "execute_result"
    }
   ],
   "source": [
    "# CatBoost 모델을 만듭니다.\n",
    "catboost = CatBoostClassifier(random_state = 42,verbose = 1000, bagging_temperature = 0, depth = 9, l2_leaf_reg = 3, learning_rate =0.1)#, task_type=\"GPU\")\n",
    "fold_K(X_smote, y_smote, catboost)"
   ]
  },
  {
   "cell_type": "markdown",
   "metadata": {},
   "source": [
    "### 결과"
   ]
  },
  {
   "cell_type": "code",
   "execution_count": 2,
   "metadata": {},
   "outputs": [],
   "source": [
    "# 그냥 다 넣고 돌렸을 때 \n",
    "# 정확도 : train score : 0.9531869408507291\n",
    "# 정확도 : test score : 0.9357000764653762\n",
    "# 재현율 : train score : 0.9240170562775416\n",
    "# 재현율 : test score : 0.9009990815003835\n",
    "\n",
    "# 인종 뺐을 때\n",
    "# 정확도 : train score : 0.9503281035097396\n",
    "# 정확도 : test score : 0.9329473595990929\n",
    "# 재현율 : train score : 0.9197775480531885\n",
    "# 재현율 : test score : 0.8976770948418903\n",
    "\n",
    "# genhelath 뺐을 때\n",
    "# 정확도 : train score : 0.9390913297023153\n",
    "# 정확도 : test score : 0.9228328040616297\n",
    "# 재현율 : train score : 0.9123855657466496\n",
    "# 재현율 : test score : 0.8915842640436648\n",
    "\n",
    "# diabetic 뺏을 때\n",
    "# 정확도 : train score : 0.9486921401445937\n",
    "# 정확도 : test score : 0.9321694570173509\n",
    "# 재현율 : train score : 0.9213144303947279\n",
    "# 재현율 : test score : 0.9001754061310596\n",
    "\n",
    "# mentail health 뺐을 때 :\n",
    "# 정확도 : train score : 0.9481879609681242\n",
    "# 정확도 : test score : 0.931826960267987\n",
    "# 재현율 : train score : 0.9173528639504658\n",
    "# 재현율 : test score : 0.8966189912376115\n"
   ]
  }
 ],
 "metadata": {
  "kernelspec": {
   "display_name": "Python 3 (ipykernel)",
   "language": "python",
   "name": "python3"
  },
  "language_info": {
   "codemirror_mode": {
    "name": "ipython",
    "version": 3
   },
   "file_extension": ".py",
   "mimetype": "text/x-python",
   "name": "python",
   "nbconvert_exporter": "python",
   "pygments_lexer": "ipython3",
   "version": "3.9.13"
  },
  "vscode": {
   "interpreter": {
    "hash": "54f843e2d25d3a59c86748e7da2acead36750f0d182112685aa834d50ad6fdc4"
   }
  }
 },
 "nbformat": 4,
 "nbformat_minor": 4
}
