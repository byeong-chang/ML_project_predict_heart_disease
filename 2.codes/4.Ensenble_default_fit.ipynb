{
 "cells": [
  {
   "cell_type": "code",
   "execution_count": 1,
   "id": "260439f2-6f82-4c7b-b511-60128f5ea009",
   "metadata": {
    "id": "260439f2-6f82-4c7b-b511-60128f5ea009"
   },
   "outputs": [],
   "source": [
    "import pandas as pd\n",
    "import numpy as np\n",
    "import matplotlib.pyplot as plt\n",
    "\n",
    "from sklearn.model_selection import KFold\n",
    "from sklearn.metrics import confusion_matrix, accuracy_score, precision_score, recall_score, f1_score\n",
    "from sklearn.metrics import roc_auc_score\n",
    "from imblearn.over_sampling import SMOTE\n",
    "\n",
    "from sklearn.model_selection import train_test_split\n",
    "from sklearn.tree import DecisionTreeClassifier\n",
    "from sklearn.model_selection import GridSearchCV\n",
    "from sklearn.linear_model import LogisticRegression\n",
    "from sklearn.neighbors import KNeighborsClassifier\n",
    "from imblearn.combine import SMOTETomek\n",
    "from sklearn.ensemble import VotingClassifier\n",
    "from sklearn.model_selection import GridSearchCV\n",
    "from lightgbm import LGBMClassifier\n",
    "from sklearn.ensemble import RandomForestClassifier\n",
    "from sklearn.ensemble import AdaBoostClassifier\n",
    "from xgboost import XGBClassifier\n",
    "from catboost import CatBoostClassifier\n",
    "\n",
    "from Model_def import fold_K\n",
    "\n",
    "import warnings\n",
    "warnings.filterwarnings('ignore')"
   ]
  },
  {
   "cell_type": "code",
   "execution_count": null,
   "id": "3371bbc7-af5d-4362-929b-21c4efe159f2",
   "metadata": {
    "id": "3371bbc7-af5d-4362-929b-21c4efe159f2"
   },
   "outputs": [],
   "source": [
    "df = pd.read_csv('./../0.data/heart_2020_final.csv')\n",
    "\n",
    "X = df.iloc[:,1:].values\n",
    "y = df['HeartDisease']\n",
    "\n",
    "X_smote,y_smote = SMOTE(random_state = 42).fit_resample(X,y)\n",
    "\n",
    "X_train_ns,y_train_ns = SMOTETomek(sampling_strategy=0.5).fit_resample(X,y)"
   ]
  },
  {
   "cell_type": "markdown",
   "id": "f4ff9d6f-18a7-4059-86ab-ec092f2c3027",
   "metadata": {
    "id": "f4ff9d6f-18a7-4059-86ab-ec092f2c3027"
   },
   "source": [
    "### XGB "
   ]
  },
  {
   "cell_type": "code",
   "execution_count": null,
   "id": "3f612517-f33c-4a47-be0d-87a7583c9fb7",
   "metadata": {
    "id": "3f612517-f33c-4a47-be0d-87a7583c9fb7",
    "outputId": "bd671213-6bc5-4406-bf73-7cb650f05ac8",
    "tags": []
   },
   "outputs": [
    {
     "name": "stdout",
     "output_type": "stream",
     "text": [
      "acc test score : 0.9107640526878067\n",
      "acc train score : 0.9169329203898815\n",
      "rec test score : 0.09750750334473024\n",
      "rec train score : 0.13563735524083484\n"
     ]
    }
   ],
   "source": [
    "xgb = XGBClassifier(random_state = 42)\n",
    "fold_K(X,y,xgb)"
   ]
  },
  {
   "cell_type": "markdown",
   "id": "1068f4b9-8e62-40f7-a20b-98525bb3f097",
   "metadata": {
    "id": "1068f4b9-8e62-40f7-a20b-98525bb3f097",
    "tags": []
   },
   "source": [
    "### XGB SMOTE"
   ]
  },
  {
   "cell_type": "code",
   "execution_count": null,
   "id": "ec304a48-6068-466c-a1d2-386d4c456028",
   "metadata": {
    "id": "ec304a48-6068-466c-a1d2-386d4c456028",
    "outputId": "9629631f-e15a-4c2a-a3d4-68e4aa60355e"
   },
   "outputs": [
    {
     "name": "stdout",
     "output_type": "stream",
     "text": [
      "acc test score : 0.9342426484002667\n",
      "acc train score : 0.9366433051647263\n",
      "rec test score : 0.894614708024282\n",
      "rec train score : 0.8970401234704963\n"
     ]
    }
   ],
   "source": [
    "xgb = XGBClassifier(random_state = 42)\n",
    "xgb = fold_K(X_smote,y_smote,xgb)"
   ]
  },
  {
   "cell_type": "markdown",
   "id": "35fc5e06-054f-41f3-9c2a-57eebf5dae77",
   "metadata": {
    "id": "35fc5e06-054f-41f3-9c2a-57eebf5dae77"
   },
   "source": [
    "### XGB SMOTETomek"
   ]
  },
  {
   "cell_type": "code",
   "execution_count": null,
   "id": "a4c389e4-a9ca-48eb-87f5-51dcc70f55bd",
   "metadata": {
    "id": "a4c389e4-a9ca-48eb-87f5-51dcc70f55bd",
    "outputId": "883771d8-af08-43ff-85d6-d33f2f121c8b"
   },
   "outputs": [
    {
     "name": "stdout",
     "output_type": "stream",
     "text": [
      "acc test score : 0.9264283547170615\n",
      "acc train score : 0.9295252915691382\n",
      "rec test score : 0.8016493932587034\n",
      "rec train score : 0.806556553776543\n"
     ]
    }
   ],
   "source": [
    "xgb = XGBClassifier(random_state = 42)\n",
    "fold_K(X_train_ns,y_train_ns,xgb)"
   ]
  },
  {
   "cell_type": "markdown",
   "id": "50de983b-570d-49cf-b392-01c2a8e505cc",
   "metadata": {
    "id": "50de983b-570d-49cf-b392-01c2a8e505cc"
   },
   "source": [
    "### LGBM "
   ]
  },
  {
   "cell_type": "code",
   "execution_count": null,
   "id": "ec31aafb-a4e8-4654-a17c-5fc8d968914d",
   "metadata": {
    "id": "ec31aafb-a4e8-4654-a17c-5fc8d968914d",
    "outputId": "7ac5da98-b440-41a1-a1f3-a33877843629"
   },
   "outputs": [
    {
     "name": "stdout",
     "output_type": "stream",
     "text": [
      "acc test score : 0.9114766420727254\n",
      "acc train score : 0.9131379732256774\n",
      "rec test score : 0.08034456644556309\n",
      "rec train score : 0.09016550287187867\n"
     ]
    }
   ],
   "source": [
    "lgbm = LGBMClassifier(random_state = 42)\n",
    "fold_K(X, y, lgbm)"
   ]
  },
  {
   "cell_type": "markdown",
   "id": "f148674d-e3c6-4466-a8cc-25c3221083e9",
   "metadata": {
    "id": "f148674d-e3c6-4466-a8cc-25c3221083e9"
   },
   "source": [
    "### LGBM SMOTE"
   ]
  },
  {
   "cell_type": "code",
   "execution_count": null,
   "id": "22161b25-8ab9-455a-a1b9-3662baf8ec79",
   "metadata": {
    "id": "22161b25-8ab9-455a-a1b9-3662baf8ec79",
    "outputId": "45bdb793-5770-465e-9842-a9907432406c"
   },
   "outputs": [
    {
     "name": "stdout",
     "output_type": "stream",
     "text": [
      "acc test score : 0.9322951590251705\n",
      "acc train score : 0.9327797534287333\n",
      "rec test score : 0.8957412506890092\n",
      "rec train score : 0.8962182405931663\n"
     ]
    }
   ],
   "source": [
    "lgbm = LGBMClassifier(random_state = 42)\n",
    "fold_K(X_smote, y_smote, lgbm)"
   ]
  },
  {
   "cell_type": "markdown",
   "id": "8fd975bb-c933-481a-8467-fba60cfddae3",
   "metadata": {
    "id": "8fd975bb-c933-481a-8467-fba60cfddae3"
   },
   "source": [
    "### LGBM SMOTETomek"
   ]
  },
  {
   "cell_type": "code",
   "execution_count": null,
   "id": "2bc29e30-fdc3-46cf-bd63-f0e001dba603",
   "metadata": {
    "id": "2bc29e30-fdc3-46cf-bd63-f0e001dba603",
    "outputId": "69abd57b-04d6-4523-8bee-5b08afbe1150"
   },
   "outputs": [
    {
     "name": "stdout",
     "output_type": "stream",
     "text": [
      "acc test score : 0.9248841876122424\n",
      "acc train score : 0.9254952150686346\n",
      "rec test score : 0.7990726293577763\n",
      "rec train score : 0.8001326054882675\n"
     ]
    }
   ],
   "source": [
    "lgbm = LGBMClassifier(random_state = 42)\n",
    "fold_K(X_train_ns,y_train_ns, lgbm)"
   ]
  },
  {
   "cell_type": "markdown",
   "id": "8a31e2fe-9f11-4079-ab74-4b15bb173134",
   "metadata": {
    "id": "8a31e2fe-9f11-4079-ab74-4b15bb173134"
   },
   "source": [
    "### CatBoost"
   ]
  },
  {
   "cell_type": "code",
   "execution_count": null,
   "id": "748a90a6-cfcf-4bcd-9291-dfe826dd45d2",
   "metadata": {
    "id": "748a90a6-cfcf-4bcd-9291-dfe826dd45d2",
    "outputId": "680f8247-2b9a-4965-a8ac-8db8a9c031f2"
   },
   "outputs": [
    {
     "name": "stdout",
     "output_type": "stream",
     "text": [
      "Learning rate set to 0.107236\n",
      "0:\tlearn: 0.5825164\ttotal: 29.8ms\tremaining: 29.8s\n",
      "999:\tlearn: 0.2141557\ttotal: 28s\tremaining: 0us\n",
      "Learning rate set to 0.107236\n",
      "0:\tlearn: 0.5833077\ttotal: 26.5ms\tremaining: 26.5s\n",
      "999:\tlearn: 0.2165910\ttotal: 28.6s\tremaining: 0us\n",
      "Learning rate set to 0.107237\n",
      "0:\tlearn: 0.5841761\ttotal: 28.1ms\tremaining: 28.1s\n",
      "999:\tlearn: 0.2152102\ttotal: 28.8s\tremaining: 0us\n",
      "Learning rate set to 0.107237\n",
      "0:\tlearn: 0.5826301\ttotal: 37.3ms\tremaining: 37.2s\n",
      "999:\tlearn: 0.2148797\ttotal: 28.7s\tremaining: 0us\n",
      "Learning rate set to 0.107237\n",
      "0:\tlearn: 0.5844423\ttotal: 26.6ms\tremaining: 26.6s\n",
      "999:\tlearn: 0.2154960\ttotal: 28.8s\tremaining: 0us\n",
      "acc test score : 0.9104226737763377\n",
      "acc train score : 0.920823155371569\n",
      "rec test score : 0.09700023840605168\n",
      "rec train score : 0.16365366968741882\n"
     ]
    }
   ],
   "source": [
    "cat = CatBoostClassifier(random_state = 42,verbose = 1000)\n",
    "cat = fold_K(X, y, cat)"
   ]
  },
  {
   "cell_type": "markdown",
   "id": "2652e82f-cb4f-4ca6-a790-6a419a165a51",
   "metadata": {
    "id": "2652e82f-cb4f-4ca6-a790-6a419a165a51"
   },
   "source": [
    "### CatBoost SMOTE"
   ]
  },
  {
   "cell_type": "code",
   "execution_count": null,
   "id": "3ba0606e-4faf-4d8a-a8b3-2f5f5e809f09",
   "metadata": {
    "id": "3ba0606e-4faf-4d8a-a8b3-2f5f5e809f09",
    "outputId": "79cefd33-d8b0-46f4-a4bc-ad99e4a71a86"
   },
   "outputs": [
    {
     "name": "stdout",
     "output_type": "stream",
     "text": [
      "Learning rate set to 0.138459\n",
      "0:\tlearn: 0.5996066\ttotal: 56.8ms\tremaining: 56.8s\n",
      "999:\tlearn: 0.1449346\ttotal: 51.1s\tremaining: 0us\n",
      "Learning rate set to 0.138459\n",
      "0:\tlearn: 0.5996112\ttotal: 58ms\tremaining: 58s\n",
      "999:\tlearn: 0.1448343\ttotal: 51.9s\tremaining: 0us\n",
      "Learning rate set to 0.138459\n",
      "0:\tlearn: 0.5997738\ttotal: 56.7ms\tremaining: 56.7s\n",
      "999:\tlearn: 0.1450515\ttotal: 51.8s\tremaining: 0us\n",
      "Learning rate set to 0.138459\n",
      "0:\tlearn: 0.5997629\ttotal: 67.5ms\tremaining: 1m 7s\n",
      "999:\tlearn: 0.1447609\ttotal: 52.3s\tremaining: 0us\n",
      "Learning rate set to 0.138459\n",
      "0:\tlearn: 0.5998808\ttotal: 57.6ms\tremaining: 57.6s\n",
      "999:\tlearn: 0.1458140\ttotal: 52s\tremaining: 0us\n",
      "acc test score : 0.9349294605881056\n",
      "acc train score : 0.9411786406235784\n",
      "rec test score : 0.8961595868031745\n",
      "rec train score : 0.9032543517591627\n"
     ]
    }
   ],
   "source": [
    "cat = CatBoostClassifier(random_state = 42,verbose = 1000)\n",
    "cat = fold_K(X_smote, y_smote, cat)"
   ]
  },
  {
   "cell_type": "markdown",
   "id": "2a7f6045-5126-4159-b7e7-d61f8c556190",
   "metadata": {
    "id": "2a7f6045-5126-4159-b7e7-d61f8c556190"
   },
   "source": [
    "### CatBoost SMOTETomek"
   ]
  },
  {
   "cell_type": "code",
   "execution_count": null,
   "id": "1709025e-5191-4ece-8320-ab6856f596cf",
   "metadata": {
    "id": "1709025e-5191-4ece-8320-ab6856f596cf",
    "outputId": "67d852ee-d641-4d4b-8788-318a48e6f0b7"
   },
   "outputs": [
    {
     "name": "stdout",
     "output_type": "stream",
     "text": [
      "Learning rate set to 0.121817\n",
      "0:\tlearn: 0.6067534\ttotal: 50.7ms\tremaining: 50.6s\n",
      "999:\tlearn: 0.1691844\ttotal: 41.5s\tremaining: 0us\n",
      "Learning rate set to 0.121817\n",
      "0:\tlearn: 0.6066729\ttotal: 51.4ms\tremaining: 51.4s\n",
      "999:\tlearn: 0.1683926\ttotal: 41.6s\tremaining: 0us\n",
      "Learning rate set to 0.121818\n",
      "0:\tlearn: 0.6068724\ttotal: 46ms\tremaining: 46s\n",
      "999:\tlearn: 0.1692718\ttotal: 41s\tremaining: 0us\n",
      "Learning rate set to 0.121818\n",
      "0:\tlearn: 0.6066252\ttotal: 42.8ms\tremaining: 42.8s\n",
      "999:\tlearn: 0.1692408\ttotal: 39.6s\tremaining: 0us\n",
      "Learning rate set to 0.121818\n",
      "0:\tlearn: 0.6067563\ttotal: 44ms\tremaining: 44s\n",
      "999:\tlearn: 0.1687391\ttotal: 42.5s\tremaining: 0us\n",
      "acc test score : 0.9268094771858021\n",
      "acc train score : 0.9343686376833384\n",
      "rec test score : 0.8046335170201419\n",
      "rec train score : 0.8179200024100046\n"
     ]
    }
   ],
   "source": [
    "cat = CatBoostClassifier(random_state = 42,verbose = 1000)\n",
    "fold_K(X_train_ns,y_train_ns, cat)"
   ]
  },
  {
   "cell_type": "markdown",
   "id": "8b93dc3f-7eba-4a9c-946c-67ca22176ff5",
   "metadata": {
    "id": "8b93dc3f-7eba-4a9c-946c-67ca22176ff5"
   },
   "source": [
    "### 보팅 앙상블"
   ]
  },
  {
   "cell_type": "code",
   "execution_count": null,
   "id": "c41e79fd-dc59-448c-b384-4bd12a850148",
   "metadata": {
    "id": "c41e79fd-dc59-448c-b384-4bd12a850148",
    "outputId": "9eef79ee-a1f8-474e-e013-d11deea2d1d8"
   },
   "outputs": [
    {
     "name": "stdout",
     "output_type": "stream",
     "text": [
      "test score : 0.7796632639533342\n",
      "train score : 0.8480451990781647\n"
     ]
    }
   ],
   "source": [
    "# split 개수, 셔플 여부 및 seed 설정\n",
    "kf = KFold(n_splits = 5, shuffle = True, random_state = 42)\n",
    "# split 개수 스텝 만큼 train, test 데이터셋을 매번 분할\n",
    "\n",
    "# 서로 다른 개별 학습기 생성\n",
    "lr_clf = LogisticRegression(max_iter = 100000)\n",
    "knn_clf = KNeighborsClassifier(n_neighbors=8) # 이웃을 기준으로 분류 , 몇개까지 이웃으로 칠거냐는 인자를 넣어줌\n",
    "dt_clf = DecisionTreeClassifier(max_depth = 3)\n",
    "dt_test_score = []\n",
    "dt_train_score = []\n",
    "\n",
    "vo_clf = VotingClassifier([('LR' , lr_clf), ('KNN', knn_clf), ('DT', dt_clf)], voting = 'hard')\n",
    "vo_clf.fit(X_smote,y_smote)\n",
    "y_pred = vo_clf.predict(X_test)\n",
    "y_pred_train = vo_clf.predict(X_smote)\n",
    "\n",
    "dt_train_score.append(accuracy_score(y_pred_train,y_smote))\n",
    "dt_test_score.append(accuracy_score(y_pred,y_test))\n",
    "\n",
    "print('test score : {}'.format(np.array(dt_test_score).mean()))\n",
    "print('train score : {}'.format(np.array(dt_train_score).mean()))"
   ]
  }
 ],
 "metadata": {
  "colab": {
   "provenance": []
  },
  "kernelspec": {
   "display_name": "Python 3 (ipykernel)",
   "language": "python",
   "name": "python3"
  },
  "language_info": {
   "codemirror_mode": {
    "name": "ipython",
    "version": 3
   },
   "file_extension": ".py",
   "mimetype": "text/x-python",
   "name": "python",
   "nbconvert_exporter": "python",
   "pygments_lexer": "ipython3",
   "version": "3.9.13"
  }
 },
 "nbformat": 4,
 "nbformat_minor": 5
}
