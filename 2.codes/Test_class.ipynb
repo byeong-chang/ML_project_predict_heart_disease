{
 "cells": [
  {
   "cell_type": "code",
   "execution_count": 1,
   "id": "b48bbe97-0db6-4063-8580-7868c44ca212",
   "metadata": {},
   "outputs": [],
   "source": [
    "import pandas as pd\n",
    "import numpy as np\n",
    "import matplotlib.pyplot as plt\n",
    "import matplotlib\n",
    "%matplotlib inline\n",
    "from sklearn.model_selection import train_test_split\n",
    "from sklearn.linear_model import LogisticRegression\n",
    "from sklearn.metrics import confusion_matrix, accuracy_score, precision_score, recall_score, f1_score\n",
    "from sklearn.metrics import roc_auc_score\n",
    "from imblearn.over_sampling import SMOTE\n",
    "import warnings\n",
    "warnings.filterwarnings('ignore')"
   ]
  },
  {
   "cell_type": "code",
   "execution_count": 11,
   "id": "57bdf3c8-99bc-43f0-b873-5a543b020742",
   "metadata": {},
   "outputs": [],
   "source": [
    "class model_selecting:\n",
    "    def __init__(self, model, *xytt):\n",
    "        # 입력할 모델과 train_test_split의 return 값\n",
    "        # (4개=x_train,x_test,y_train,y_test)를 xytt로 받아와서 각자 분할해준다.\n",
    "        self.X_train = xytt[0][0]\n",
    "        self.X_test = xytt[0][1]\n",
    "        self.y_train = xytt[0][2]\n",
    "        self.y_test = xytt[0][3]\n",
    "        self.model = model\n",
    "        self.X_train_over = 0\n",
    "        self.y_train_over = 0\n",
    "        \n",
    "    #점수 출력부 함수\n",
    "    def get_clf_eval(self,y_test, pred=None, pred_proba=None):\n",
    "        confusion = confusion_matrix(y_test, pred)\n",
    "        accuracy = accuracy_score(y_test , pred)\n",
    "        precision = precision_score(y_test , pred)\n",
    "        recall = recall_score(y_test , pred)\n",
    "        f1 = f1_score(y_test,pred)\n",
    "        # ROC-AUC 추가 \n",
    "        roc_auc = roc_auc_score(y_test, pred_proba)\n",
    "        print('오차 행렬')\n",
    "        print(confusion)\n",
    "        # ROC-AUC print 추가\n",
    "        print('정확도: {0:.4f}, 정밀도: {1:.4f}, 재현율: {2:.4f},\\\n",
    "        F1: {3:.4f}, AUC:{4:.4f}'.format(accuracy, precision, recall, f1, roc_auc))\n",
    "        \n",
    "    #값이 편향적일때 오버샘플링 해주는 함수\n",
    "    def get_SMOTE(self):\n",
    "        # SMOTE train 함수\n",
    "        smote = SMOTE()\n",
    "        return smote.fit_resample(self.X_train,self.y_train)\n",
    "    \n",
    "    # 모델 학습, 예측 , 출력을 실행해주는 함수\n",
    "    def get_model_apply(self,SMOTE = False):\n",
    "        if SMOTE == False:\n",
    "            reg = self.model.fit(self.X_train,self.y_train)\n",
    "        else:\n",
    "            self.X_train_over , self.y_train_over = self.get_SMOTE()\n",
    "            reg = self.model.fit(self.X_train_over,self.y_train_over)\n",
    "        y_pred = reg.predict(self.X_test)\n",
    "        y_pred_proba = reg.predict_proba(self.X_test)[:,1]\n",
    "        self.get_clf_eval(self.y_test,y_pred,y_pred_proba)  \n",
    "        # 우리는 심장병에 걸릴 확률을 원하기 때문에 proba 값을 return\n",
    "        return y_pred_proba "
   ]
  },
  {
   "cell_type": "code",
   "execution_count": 12,
   "id": "0f51a78c-7caa-4fae-b995-02e782529990",
   "metadata": {},
   "outputs": [
    {
     "name": "stdout",
     "output_type": "stream",
     "text": [
      "오차 행렬\n",
      "[[40689 17795]\n",
      " [ 1724  3751]]\n",
      "정확도: 0.6948, 정밀도: 0.1741, 재현율: 0.6851,        F1: 0.2776, AUC:0.7553\n"
     ]
    },
    {
     "data": {
      "text/plain": [
       "array([0.54528562, 0.32472304, 0.08119273, ..., 0.2305839 , 0.62376908,\n",
       "       0.6155498 ])"
      ]
     },
     "execution_count": 12,
     "metadata": {},
     "output_type": "execute_result"
    }
   ],
   "source": [
    "# 사용법 예시\n",
    "df = pd.read_csv('./../0.data/heart_2020_cleaned_preprocessing.csv')\n",
    "X = df.iloc[:,1:]\n",
    "y = df['HeartDisease']\n",
    "\n",
    "xytt = train_test_split(X,y,test_size=0.2, \n",
    "                        random_state=42 , stratify=y)\n",
    "lr = LogisticRegression(multi_class = 'auto', solver = 'lbfgs', random_state=42)\n",
    "m1 = model_selecting(lr,xytt)\n",
    "m1.get_model_apply(SMOTE = True)"
   ]
  },
  {
   "cell_type": "code",
   "execution_count": null,
   "id": "169831e9-e8cf-4581-a91e-c4c467a46ea2",
   "metadata": {},
   "outputs": [],
   "source": []
  }
 ],
 "metadata": {
  "kernelspec": {
   "display_name": "Python 3 (ipykernel)",
   "language": "python",
   "name": "python3"
  },
  "language_info": {
   "codemirror_mode": {
    "name": "ipython",
    "version": 3
   },
   "file_extension": ".py",
   "mimetype": "text/x-python",
   "name": "python",
   "nbconvert_exporter": "python",
   "pygments_lexer": "ipython3",
   "version": "3.9.13"
  },
  "vscode": {
   "interpreter": {
    "hash": "49f11bc3bbceea80d43b6585ef1fbb24305d1544ee10ff82b0a738254ffa1b3f"
   }
  }
 },
 "nbformat": 4,
 "nbformat_minor": 5
}
